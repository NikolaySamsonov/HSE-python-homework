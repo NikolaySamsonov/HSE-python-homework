{
 "cells": [
  {
   "metadata": {
    "ExecuteTime": {
     "end_time": "2025-09-15T18:07:50.674381Z",
     "start_time": "2025-09-15T18:07:46.542529Z"
    }
   },
   "cell_type": "code",
   "source": [
    "year = int(input())\n",
    "if (year >= 1000) and (year <= 10000):\n",
    "    if year % 4 == 0:\n",
    "        print(\"Високосный год\")\n",
    "    else: print(\"Обычный год\")\n",
    "else: print(\"Ошибка введенных данных\")"
   ],
   "id": "430ec4ebe133de3c",
   "outputs": [
    {
     "name": "stdout",
     "output_type": "stream",
     "text": [
      "Ошибка вводимых данных\n"
     ]
    }
   ],
   "execution_count": 16
  },
  {
   "metadata": {
    "ExecuteTime": {
     "end_time": "2025-09-15T18:08:44.445702Z",
     "start_time": "2025-09-15T18:08:41.187455Z"
    }
   },
   "cell_type": "code",
   "source": [
    "tiket_nomber = input()\n",
    "if (int(tiket_nomber) >=100_000) and (int(tiket_nomber) < 1_000_000):\n",
    "    if int(tiket_nomber[0])+int(tiket_nomber[1])+int(tiket_nomber[2]) == int(tiket_nomber[4])+int(tiket_nomber[5])+int(tiket_nomber[3]):\n",
    "        print(\"Счастливый билет\")\n",
    "    else: print(\"Несчастливый билет\")\n",
    "else: print(\"ошибка введенных данных\")"
   ],
   "id": "20e3f841f111c351",
   "outputs": [
    {
     "name": "stdout",
     "output_type": "stream",
     "text": [
      "ошибка введенных данных\n"
     ]
    }
   ],
   "execution_count": 18
  }
 ],
 "metadata": {
  "kernelspec": {
   "display_name": "Python 3",
   "language": "python",
   "name": "python3"
  },
  "language_info": {
   "codemirror_mode": {
    "name": "ipython",
    "version": 2
   },
   "file_extension": ".py",
   "mimetype": "text/x-python",
   "name": "python",
   "nbconvert_exporter": "python",
   "pygments_lexer": "ipython2",
   "version": "2.7.6"
  }
 },
 "nbformat": 4,
 "nbformat_minor": 5
}
